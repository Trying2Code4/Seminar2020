{
 "cells": [
  {
   "cell_type": "code",
   "execution_count": 27,
   "metadata": {
    "collapsed": true
   },
   "outputs": [],
   "source": [
    "import pandas as pd\n",
    "import numpy as np\n",
    "import matplotlib.pyplot as plt\n",
    "import seaborn as sns\n",
    "%matplotlib inline\n",
    "plt.rcParams.update(plt.rcParamsDefault)\n",
    "plt.style.use('seaborn-paper')"
   ]
  },
  {
   "cell_type": "code",
   "execution_count": 57,
   "metadata": {
    "collapsed": true
   },
   "outputs": [],
   "source": [
    "from __future__ import division #for division if you're using python 2\n",
    "from surprise import SVDpp\n",
    "from surprise import Dataset\n",
    "from surprise import Reader\n",
    "from surprise.model_selection import cross_validate"
   ]
  },
  {
   "cell_type": "code",
   "execution_count": 3,
   "metadata": {
    "collapsed": false
   },
   "outputs": [],
   "source": [
    "offers=pd.read_excel(\"OfferDetails_neat.xlsx\")"
   ]
  },
  {
   "cell_type": "code",
   "execution_count": 8,
   "metadata": {
    "collapsed": false
   },
   "outputs": [],
   "source": [
    "clicks=pd.read_csv(\"Observations_Report.csv\",sep=\";\")"
   ]
  },
  {
   "cell_type": "markdown",
   "metadata": {},
   "source": [
    "## What can we say about the (average) user?"
   ]
  },
  {
   "cell_type": "code",
   "execution_count": 93,
   "metadata": {
    "collapsed": false
   },
   "outputs": [],
   "source": [
    "#group clicks by users\n",
    "clicks_per_user=clicks[['USERID','OFFERID','CLICK']].groupby(['USERID']).sum()\n",
    "n_u=len(clicks_per_user) #number of users\n",
    "\n",
    "clickthrough_per_user=clicks[['USERID','CLICK']].groupby(['USERID']).apply(lambda x: x.sum() / x.count())"
   ]
  },
  {
   "cell_type": "code",
   "execution_count": 172,
   "metadata": {
    "collapsed": false
   },
   "outputs": [
    {
     "name": "stdout",
     "output_type": "stream",
     "text": [
      "72.3438361136\n",
      "9.47938650142\n",
      "18.176777385\n",
      "0.0\n",
      "2.37015579423\n",
      "848\n"
     ]
    }
   ],
   "source": [
    "print (len(clicks_per_user[clicks_per_user[\"CLICK\"]==0])/n_u*100)\n",
    "print (len(clicks_per_user[clicks_per_user[\"CLICK\"]==1])/n_u*100) \n",
    "print (len(clicks_per_user[clicks_per_user[\"CLICK\"]>1])/n_u*100) \n",
    "\n",
    "print np.median(clicks_per_user[\"CLICK\"]) \n",
    "print np.mean(clicks_per_user[\"CLICK\"])\n",
    "print max(clicks_per_user[\"CLICK\"])\n",
    "\n"
   ]
  },
  {
   "cell_type": "markdown",
   "metadata": {},
   "source": [
    "#### The average number of clicks a user is made is 2.47. However, this is caused by some users that click on many offers (the maximum is 848) and hence the median of the clicks is actually 0. 72% of users haven't clicked on any of the offers. 9.5% clicked on one offer and 18% clicked on more than one offer. "
   ]
  },
  {
   "cell_type": "code",
   "execution_count": 174,
   "metadata": {
    "collapsed": false
   },
   "outputs": [
    {
     "name": "stdout",
     "output_type": "stream",
     "text": [
      "0.0161508752933\n",
      "0.0\n",
      "1.0\n",
      "0.0\n"
     ]
    }
   ],
   "source": [
    "print np.mean(clickthrough_per_user[\"CLICK\"])\n",
    "print np.median(clickthrough_per_user[\"CLICK\"])\n",
    "print max(clickthrough_per_user[\"CLICK\"])\n",
    "print min(clickthrough_per_user[\"CLICK\"])"
   ]
  },
  {
   "cell_type": "markdown",
   "metadata": {},
   "source": [
    "#### The average clickthrough rate of users is 1.6%, while the median is 0%. The maximum clickthrough rate is 100%, so there are users that actually click on all the offers they receive."
   ]
  },
  {
   "cell_type": "code",
   "execution_count": 110,
   "metadata": {
    "collapsed": true
   },
   "outputs": [],
   "source": [
    "#group offers by users\n",
    "offers_per_user=clicks[['USERID','CLICK']].groupby(['USERID']).count()"
   ]
  },
  {
   "cell_type": "code",
   "execution_count": 111,
   "metadata": {
    "collapsed": false
   },
   "outputs": [
    {
     "data": {
      "image/png": "[encoded data removed]",
      "text/plain": [
       "<matplotlib.figure.Figure at 0x3316b0290>"
      ]
     },
     "metadata": {},
     "output_type": "display_data"
    }
   ],
   "source": [
    "_ =plt.hist(offers_per_user[\"CLICK\"],bins=50,edgecolor='black') "
   ]
  },
  {
   "cell_type": "code",
   "execution_count": 134,
   "metadata": {
    "collapsed": false
   },
   "outputs": [
    {
     "name": "stdout",
     "output_type": "stream",
     "text": [
      "108.118445284\n",
      "19.0\n",
      "1628\n",
      "0.189644859059\n"
     ]
    }
   ],
   "source": [
    "print np.mean(offers_per_user[\"CLICK\"])\n",
    "print np.median(offers_per_user[\"CLICK\"])\n",
    "print max(offers_per_user[\"CLICK\"])\n",
    "\n",
    "print len(offers_per_user[offers_per_user[\"CLICK\"]<5])/n_u"
   ]
  },
  {
   "cell_type": "markdown",
   "metadata": {},
   "source": [
    "#### Users received (by receive we mean that they opened a mail with that offer) 108 offers on average, the median was 19. Approximately 19% of the users received less than 5 offers.  "
   ]
  },
  {
   "cell_type": "code",
   "execution_count": 149,
   "metadata": {
    "collapsed": false
   },
   "outputs": [],
   "source": [
    "#group mails by user\n",
    "mails_per_user=clicks[['USERID','MAILID']].groupby('USERID')['MAILID'].nunique()"
   ]
  },
  {
   "cell_type": "code",
   "execution_count": 150,
   "metadata": {
    "collapsed": false
   },
   "outputs": [
    {
     "name": "stdout",
     "output_type": "stream",
     "text": [
      "40.4332497681\n",
      "6.0\n",
      "622\n"
     ]
    }
   ],
   "source": [
    "print np.mean(mails_per_user)\n",
    "print np.median(mails_per_user)\n",
    "print max(mails_per_user)"
   ]
  },
  {
   "cell_type": "markdown",
   "metadata": {},
   "source": [
    "#### The mean number of opened mails per user is 40, the median is 6. The maximum is 622. "
   ]
  },
  {
   "cell_type": "markdown",
   "metadata": {},
   "source": [
    "## What do we know about the mails?"
   ]
  },
  {
   "cell_type": "code",
   "execution_count": 66,
   "metadata": {
    "collapsed": false
   },
   "outputs": [],
   "source": [
    "#group clicks by mails\n",
    "clicks_per_mail=clicks[['MAILID','CLICK']].groupby(['MAILID']).sum()\n",
    "n_m=len(clicks_per_mail) #number of mails"
   ]
  },
  {
   "cell_type": "code",
   "execution_count": 86,
   "metadata": {
    "collapsed": false
   },
   "outputs": [
    {
     "data": {
      "image/png": "[encoded data removed]",
      "text/plain": [
       "<matplotlib.figure.Figure at 0x330f0a6d0>"
      ]
     },
     "metadata": {},
     "output_type": "display_data"
    }
   ],
   "source": [
    "_ =plt.hist(clicks_per_mail[\"CLICK\"],bins=50,edgecolor='black') "
   ]
  },
  {
   "cell_type": "code",
   "execution_count": 157,
   "metadata": {
    "collapsed": false
   },
   "outputs": [
    {
     "name": "stdout",
     "output_type": "stream",
     "text": [
      "2.6739984024\n",
      "2.0\n",
      "10\n"
     ]
    }
   ],
   "source": [
    "#group offers by mails\n",
    "offers_per_mail=clicks[['MAILID','USERID','CLICK']].groupby(['MAILID','USERID']).count()\n",
    "print np.mean(offers_per_mail[\"CLICK\"])\n",
    "print np.median(offers_per_mail[\"CLICK\"])\n",
    "print max(offers_per_mail[\"CLICK\"])"
   ]
  },
  {
   "cell_type": "markdown",
   "metadata": {},
   "source": [
    "#### The average mail contains 2.67 offers. The most offers a single mail has is 10."
   ]
  },
  {
   "cell_type": "markdown",
   "metadata": {},
   "source": [
    "## What about the offers?"
   ]
  },
  {
   "cell_type": "code",
   "execution_count": 87,
   "metadata": {
    "collapsed": false
   },
   "outputs": [],
   "source": [
    "#group clicks by offers:\n",
    "clicks_per_offer=clicks[['OFFERID','CLICK']].groupby(['OFFERID']).sum()\n",
    "#clickthrough per offer:\n",
    "clickthrough_per_offer=clicks[['OFFERID','CLICK']].groupby(['OFFERID']).apply(lambda x: x.sum() / x.count())"
   ]
  },
  {
   "cell_type": "code",
   "execution_count": 88,
   "metadata": {
    "collapsed": false
   },
   "outputs": [
    {
     "data": {
      "image/png": "[encoded data removed]",
      "text/plain": [
       "<matplotlib.figure.Figure at 0x3311f5350>"
      ]
     },
     "metadata": {},
     "output_type": "display_data"
    }
   ],
   "source": [
    "_ =plt.hist(clicks_per_offer[\"CLICK\"],bins=50,edgecolor='black') "
   ]
  },
  {
   "cell_type": "code",
   "execution_count": 175,
   "metadata": {
    "collapsed": false
   },
   "outputs": [
    {
     "name": "stdout",
     "output_type": "stream",
     "text": [
      "0.0219218449544\n",
      "0.0291027056551\n",
      "0.018808839382\n",
      "1.0\n",
      "0.0\n",
      "0.0759606373897\n"
     ]
    }
   ],
   "source": [
    "print len(clicks[clicks[\"CLICK\"]==1])/len(clicks)\n",
    "print np.mean(clickthrough_per_offer[\"CLICK\"])\n",
    "print np.median(clickthrough_per_offer[\"CLICK\"])\n",
    "print max(clickthrough_per_offer[\"CLICK\"])\n",
    "print max(clickthrough_per_offer[\"CLICK\"])\n",
    "print min(clickthrough_per_offer[\"CLICK\"])\n",
    "print np.std(clickthrough_per_offer[\"CLICK\"])\n",
    "\n",
    "#clicks[clicks[\"OFFERID\"].isin(clickthrough_per_offer[clickthrough_per_offer[\"CLICK\"]==1][\"OFFERID\"])]"
   ]
  },
  {
   "cell_type": "markdown",
   "metadata": {},
   "source": [
    "#### Average click-through rate in the whole dataset is 2.19%. The average clickthrough per offer is 2.9%. The maximum clickthrough rate is 100%, but this is because some offers are only sent out once.  "
   ]
  },
  {
   "cell_type": "code",
   "execution_count": 196,
   "metadata": {
    "collapsed": false
   },
   "outputs": [
    {
     "data": {
      "text/html": [
       "<div>\n",
       "<table border=\"1\" class=\"dataframe\">\n",
       "  <thead>\n",
       "    <tr style=\"text-align: right;\">\n",
       "      <th></th>\n",
       "      <th>MAILID</th>\n",
       "      <th>OFFERID</th>\n",
       "      <th>OFFER_VISUALISATION</th>\n",
       "      <th>OFFER_POSITION</th>\n",
       "      <th>COUNTRY_NAME</th>\n",
       "      <th>REGION_NAME</th>\n",
       "      <th>CITY_NAME</th>\n",
       "      <th>ACCOMMODATION_NAME</th>\n",
       "      <th>REVIEW_RATING</th>\n",
       "      <th>USP1</th>\n",
       "      <th>USP2</th>\n",
       "      <th>USP3</th>\n",
       "      <th>ROOM_OCCUPANCY</th>\n",
       "      <th>DURATION</th>\n",
       "      <th>DEPARTURE_DATE</th>\n",
       "      <th>PRICE</th>\n",
       "      <th>PRICE_ORIGINAL</th>\n",
       "      <th>MEAL_PLAN</th>\n",
       "      <th>ROOMTYPE</th>\n",
       "      <th>STAR_RATING</th>\n",
       "    </tr>\n",
       "  </thead>\n",
       "  <tbody>\n",
       "    <tr>\n",
       "      <th>0</th>\n",
       "      <td>14128</td>\n",
       "      <td>23221</td>\n",
       "      <td>06 - Acco half width</td>\n",
       "      <td>7</td>\n",
       "      <td>Bulgarije</td>\n",
       "      <td>Zwarte Zeekust Varna</td>\n",
       "      <td>Golden Sands</td>\n",
       "      <td>Hotel Excelsior</td>\n",
       "      <td>0</td>\n",
       "      <td>Familiehotel</td>\n",
       "      <td>Shuttle busje naar het centrum</td>\n",
       "      <td>All inclusive, wel zo makkelijk</td>\n",
       "      <td>3 Pers.</td>\n",
       "      <td>8</td>\n",
       "      <td>Jul 18 2018 12:00AM</td>\n",
       "      <td>664</td>\n",
       "      <td>749.0</td>\n",
       "      <td>All inclusive</td>\n",
       "      <td>2-persoonskamer type A</td>\n",
       "      <td>4</td>\n",
       "    </tr>\n",
       "    <tr>\n",
       "      <th>1</th>\n",
       "      <td>14128</td>\n",
       "      <td>23222</td>\n",
       "      <td>06 - Acco half width</td>\n",
       "      <td>6</td>\n",
       "      <td>Spanje</td>\n",
       "      <td>Andalusi√´ - Costa de Almer√≠a</td>\n",
       "      <td>Roquetas de Mar</td>\n",
       "      <td>Hotel Zoraida Resort</td>\n",
       "      <td>8.1</td>\n",
       "      <td>Shows met professionele artiesten</td>\n",
       "      <td>Mooie comfortabele kamers</td>\n",
       "      <td>Zwemparadijs met glijbanen</td>\n",
       "      <td>4 Pers., 3 Volw., 2 K</td>\n",
       "      <td>8</td>\n",
       "      <td>Jul 14 2018 12:00AM</td>\n",
       "      <td>919</td>\n",
       "      <td>1039.0</td>\n",
       "      <td>All inclusive</td>\n",
       "      <td>2-persoonskamer bergzicht type A</td>\n",
       "      <td>4</td>\n",
       "    </tr>\n",
       "    <tr>\n",
       "      <th>2</th>\n",
       "      <td>14128</td>\n",
       "      <td>23223</td>\n",
       "      <td>06 - Acco half width</td>\n",
       "      <td>5</td>\n",
       "      <td>Griekenland</td>\n",
       "      <td>Karpathos</td>\n",
       "      <td>Karpathos-Stad</td>\n",
       "      <td>App. Three Stars</td>\n",
       "      <td>0</td>\n",
       "      <td>Volledig gerenoveerd</td>\n",
       "      <td>Gemoedelijk en kleinschalig</td>\n",
       "      <td>Strand op loopafstand</td>\n",
       "      <td>2 Pers.</td>\n",
       "      <td>8</td>\n",
       "      <td>Jul 17 2018 12:00AM</td>\n",
       "      <td>749</td>\n",
       "      <td>749.0</td>\n",
       "      <td>Logies</td>\n",
       "      <td>2-kamerappartement</td>\n",
       "      <td>3</td>\n",
       "    </tr>\n",
       "    <tr>\n",
       "      <th>3</th>\n",
       "      <td>14128</td>\n",
       "      <td>23224</td>\n",
       "      <td>06 - Acco half width</td>\n",
       "      <td>4</td>\n",
       "      <td>Turkije</td>\n",
       "      <td>Turkse Rivi√®ra</td>\n",
       "      <td>Side</td>\n",
       "      <td>Xperience Club Nena</td>\n",
       "      <td>8.2</td>\n",
       "      <td>Origineel Xperience animatieprogramma</td>\n",
       "      <td>Sfeervol en ruim opgezet</td>\n",
       "      <td>7 waterglijbanen</td>\n",
       "      <td>3 Pers., Max 2 Volw.</td>\n",
       "      <td>8</td>\n",
       "      <td>Jul 14 2018 12:00AM</td>\n",
       "      <td>774</td>\n",
       "      <td>919.0</td>\n",
       "      <td>All inclusive</td>\n",
       "      <td>2-persoonskamer voordeeltarief</td>\n",
       "      <td>5</td>\n",
       "    </tr>\n",
       "    <tr>\n",
       "      <th>4</th>\n",
       "      <td>14435</td>\n",
       "      <td>24058</td>\n",
       "      <td>06 - Acco half width</td>\n",
       "      <td>9</td>\n",
       "      <td>Spanje</td>\n",
       "      <td>Andalusi√´ - Costa de Almer√≠a</td>\n",
       "      <td>Roquetas de Mar</td>\n",
       "      <td>Hotel Zoraida Resort</td>\n",
       "      <td>8.1</td>\n",
       "      <td>Shows met professionele artiesten</td>\n",
       "      <td>Mooie comfortabele kamers</td>\n",
       "      <td>Zwemparadijs met glijbanen</td>\n",
       "      <td>4 Pers., 3 Volw., 2 K</td>\n",
       "      <td>8</td>\n",
       "      <td>Jun 12 2018 12:00AM</td>\n",
       "      <td>519</td>\n",
       "      <td>589.0</td>\n",
       "      <td>All inclusive</td>\n",
       "      <td>2-persoonskamer bergzicht type A</td>\n",
       "      <td>4</td>\n",
       "    </tr>\n",
       "  </tbody>\n",
       "</table>\n",
       "</div>"
      ],
      "text/plain": [
       "   MAILID  OFFERID   OFFER_VISUALISATION  OFFER_POSITION COUNTRY_NAME  \\\n",
       "0   14128    23221  06 - Acco half width               7    Bulgarije   \n",
       "1   14128    23222  06 - Acco half width               6       Spanje   \n",
       "2   14128    23223  06 - Acco half width               5  Griekenland   \n",
       "3   14128    23224  06 - Acco half width               4      Turkije   \n",
       "4   14435    24058  06 - Acco half width               9       Spanje   \n",
       "\n",
       "                      REGION_NAME        CITY_NAME    ACCOMMODATION_NAME  \\\n",
       "0            Zwarte Zeekust Varna     Golden Sands       Hotel Excelsior   \n",
       "1  Andalusi√´ - Costa de Almer√≠a  Roquetas de Mar  Hotel Zoraida Resort   \n",
       "2                       Karpathos   Karpathos-Stad      App. Three Stars   \n",
       "3                 Turkse Rivi√®ra             Side   Xperience Club Nena   \n",
       "4  Andalusi√´ - Costa de Almer√≠a  Roquetas de Mar  Hotel Zoraida Resort   \n",
       "\n",
       "  REVIEW_RATING                                   USP1  \\\n",
       "0             0                           Familiehotel   \n",
       "1           8.1      Shows met professionele artiesten   \n",
       "2             0                   Volledig gerenoveerd   \n",
       "3           8.2  Origineel Xperience animatieprogramma   \n",
       "4           8.1      Shows met professionele artiesten   \n",
       "\n",
       "                             USP2                             USP3  \\\n",
       "0  Shuttle busje naar het centrum  All inclusive, wel zo makkelijk   \n",
       "1       Mooie comfortabele kamers       Zwemparadijs met glijbanen   \n",
       "2     Gemoedelijk en kleinschalig            Strand op loopafstand   \n",
       "3        Sfeervol en ruim opgezet                 7 waterglijbanen   \n",
       "4       Mooie comfortabele kamers       Zwemparadijs met glijbanen   \n",
       "\n",
       "          ROOM_OCCUPANCY DURATION       DEPARTURE_DATE PRICE  PRICE_ORIGINAL  \\\n",
       "0                3 Pers.        8  Jul 18 2018 12:00AM   664           749.0   \n",
       "1  4 Pers., 3 Volw., 2 K        8  Jul 14 2018 12:00AM   919          1039.0   \n",
       "2                2 Pers.        8  Jul 17 2018 12:00AM   749           749.0   \n",
       "3   3 Pers., Max 2 Volw.        8  Jul 14 2018 12:00AM   774           919.0   \n",
       "4  4 Pers., 3 Volw., 2 K        8  Jun 12 2018 12:00AM   519           589.0   \n",
       "\n",
       "       MEAL_PLAN                          ROOMTYPE STAR_RATING  \n",
       "0  All inclusive            2-persoonskamer type A           4  \n",
       "1  All inclusive  2-persoonskamer bergzicht type A           4  \n",
       "2         Logies                2-kamerappartement           3  \n",
       "3  All inclusive    2-persoonskamer voordeeltarief           5  \n",
       "4  All inclusive  2-persoonskamer bergzicht type A           4  "
      ]
     },
     "execution_count": 196,
     "metadata": {},
     "output_type": "execute_result"
    }
   ],
   "source": [
    "offers.head()"
   ]
  },
  {
   "cell_type": "markdown",
   "metadata": {},
   "source": [
    "### _____ _______ ________ ____________ _________ _______________ ___________ __________________ "
   ]
  },
  {
   "cell_type": "code",
   "execution_count": 200,
   "metadata": {
    "collapsed": false
   },
   "outputs": [
    {
     "data": {
      "text/html": [
       "<div>\n",
       "<table border=\"1\" class=\"dataframe\">\n",
       "  <thead>\n",
       "    <tr style=\"text-align: right;\">\n",
       "      <th></th>\n",
       "      <th>USERID</th>\n",
       "      <th>MAILID</th>\n",
       "      <th>OFFERID</th>\n",
       "      <th>CLICK</th>\n",
       "    </tr>\n",
       "  </thead>\n",
       "  <tbody>\n",
       "    <tr>\n",
       "      <th>0</th>\n",
       "      <td>44809573</td>\n",
       "      <td>15881</td>\n",
       "      <td>5538</td>\n",
       "      <td>0</td>\n",
       "    </tr>\n",
       "    <tr>\n",
       "      <th>1</th>\n",
       "      <td>44809573</td>\n",
       "      <td>16888</td>\n",
       "      <td>6128</td>\n",
       "      <td>0</td>\n",
       "    </tr>\n",
       "    <tr>\n",
       "      <th>2</th>\n",
       "      <td>44809573</td>\n",
       "      <td>17291</td>\n",
       "      <td>31497</td>\n",
       "      <td>0</td>\n",
       "    </tr>\n",
       "    <tr>\n",
       "      <th>3</th>\n",
       "      <td>44809573</td>\n",
       "      <td>18834</td>\n",
       "      <td>36220</td>\n",
       "      <td>0</td>\n",
       "    </tr>\n",
       "    <tr>\n",
       "      <th>4</th>\n",
       "      <td>44809573</td>\n",
       "      <td>19243</td>\n",
       "      <td>7327</td>\n",
       "      <td>0</td>\n",
       "    </tr>\n",
       "  </tbody>\n",
       "</table>\n",
       "</div>"
      ],
      "text/plain": [
       "     USERID  MAILID  OFFERID  CLICK\n",
       "0  44809573   15881     5538      0\n",
       "1  44809573   16888     6128      0\n",
       "2  44809573   17291    31497      0\n",
       "3  44809573   18834    36220      0\n",
       "4  44809573   19243     7327      0"
      ]
     },
     "execution_count": 200,
     "metadata": {},
     "output_type": "execute_result"
    }
   ],
   "source": [
    "clicks"
   ]
  },
  {
   "cell_type": "code",
   "execution_count": 207,
   "metadata": {
    "collapsed": false
   },
   "outputs": [],
   "source": [
    "duplicates=clicks[clicks[[\"USERID\",\"OFFERID\"]].duplicated()]"
   ]
  },
  {
   "cell_type": "code",
   "execution_count": 210,
   "metadata": {
    "collapsed": false
   },
   "outputs": [],
   "source": [
    "#clicks is the original click dataframe\n",
    "duplicates=clicks[clicks[[\"USERID\",\"OFFERID\"]].duplicated()]\n",
    "#Removing the duplicates (getting rid of the second occurence)\n",
    "clicks_with_dupes=clicks\n",
    "clicks=pd.concat([clicks_with_dupes,duplicates]).drop_duplicates(keep=False)\n"
   ]
  },
  {
   "cell_type": "code",
   "execution_count": 218,
   "metadata": {
    "collapsed": false
   },
   "outputs": [],
   "source": [
    "userids=sorted(clicks[\"USERID\"].unique())\n",
    "offerids=sorted(clicks[\"OFFERID\"].unique())"
   ]
  },
  {
   "cell_type": "code",
   "execution_count": 225,
   "metadata": {
    "collapsed": false
   },
   "outputs": [
    {
     "data": {
      "text/html": [
       "<div>\n",
       "<table border=\"1\" class=\"dataframe\">\n",
       "  <thead>\n",
       "    <tr style=\"text-align: right;\">\n",
       "      <th></th>\n",
       "      <th>MAILID</th>\n",
       "      <th>OFFERID</th>\n",
       "      <th>OFFER_VISUALISATION</th>\n",
       "      <th>OFFER_POSITION</th>\n",
       "      <th>COUNTRY_NAME</th>\n",
       "      <th>REGION_NAME</th>\n",
       "      <th>CITY_NAME</th>\n",
       "      <th>ACCOMMODATION_NAME</th>\n",
       "      <th>REVIEW_RATING</th>\n",
       "      <th>USP1</th>\n",
       "      <th>USP2</th>\n",
       "      <th>USP3</th>\n",
       "      <th>ROOM_OCCUPANCY</th>\n",
       "      <th>DURATION</th>\n",
       "      <th>DEPARTURE_DATE</th>\n",
       "      <th>PRICE</th>\n",
       "      <th>PRICE_ORIGINAL</th>\n",
       "      <th>MEAL_PLAN</th>\n",
       "      <th>ROOMTYPE</th>\n",
       "      <th>STAR_RATING</th>\n",
       "    </tr>\n",
       "  </thead>\n",
       "  <tbody>\n",
       "    <tr>\n",
       "      <th>0</th>\n",
       "      <td>14128</td>\n",
       "      <td>23221</td>\n",
       "      <td>06 - Acco half width</td>\n",
       "      <td>7</td>\n",
       "      <td>Bulgarije</td>\n",
       "      <td>Zwarte Zeekust Varna</td>\n",
       "      <td>Golden Sands</td>\n",
       "      <td>Hotel Excelsior</td>\n",
       "      <td>0</td>\n",
       "      <td>Familiehotel</td>\n",
       "      <td>Shuttle busje naar het centrum</td>\n",
       "      <td>All inclusive, wel zo makkelijk</td>\n",
       "      <td>3 Pers.</td>\n",
       "      <td>8</td>\n",
       "      <td>Jul 18 2018 12:00AM</td>\n",
       "      <td>664</td>\n",
       "      <td>749.0</td>\n",
       "      <td>All inclusive</td>\n",
       "      <td>2-persoonskamer type A</td>\n",
       "      <td>4</td>\n",
       "    </tr>\n",
       "    <tr>\n",
       "      <th>1</th>\n",
       "      <td>14128</td>\n",
       "      <td>23222</td>\n",
       "      <td>06 - Acco half width</td>\n",
       "      <td>6</td>\n",
       "      <td>Spanje</td>\n",
       "      <td>Andalusi√´ - Costa de Almer√≠a</td>\n",
       "      <td>Roquetas de Mar</td>\n",
       "      <td>Hotel Zoraida Resort</td>\n",
       "      <td>8.1</td>\n",
       "      <td>Shows met professionele artiesten</td>\n",
       "      <td>Mooie comfortabele kamers</td>\n",
       "      <td>Zwemparadijs met glijbanen</td>\n",
       "      <td>4 Pers., 3 Volw., 2 K</td>\n",
       "      <td>8</td>\n",
       "      <td>Jul 14 2018 12:00AM</td>\n",
       "      <td>919</td>\n",
       "      <td>1039.0</td>\n",
       "      <td>All inclusive</td>\n",
       "      <td>2-persoonskamer bergzicht type A</td>\n",
       "      <td>4</td>\n",
       "    </tr>\n",
       "    <tr>\n",
       "      <th>2</th>\n",
       "      <td>14128</td>\n",
       "      <td>23223</td>\n",
       "      <td>06 - Acco half width</td>\n",
       "      <td>5</td>\n",
       "      <td>Griekenland</td>\n",
       "      <td>Karpathos</td>\n",
       "      <td>Karpathos-Stad</td>\n",
       "      <td>App. Three Stars</td>\n",
       "      <td>0</td>\n",
       "      <td>Volledig gerenoveerd</td>\n",
       "      <td>Gemoedelijk en kleinschalig</td>\n",
       "      <td>Strand op loopafstand</td>\n",
       "      <td>2 Pers.</td>\n",
       "      <td>8</td>\n",
       "      <td>Jul 17 2018 12:00AM</td>\n",
       "      <td>749</td>\n",
       "      <td>749.0</td>\n",
       "      <td>Logies</td>\n",
       "      <td>2-kamerappartement</td>\n",
       "      <td>3</td>\n",
       "    </tr>\n",
       "    <tr>\n",
       "      <th>3</th>\n",
       "      <td>14128</td>\n",
       "      <td>23224</td>\n",
       "      <td>06 - Acco half width</td>\n",
       "      <td>4</td>\n",
       "      <td>Turkije</td>\n",
       "      <td>Turkse Rivi√®ra</td>\n",
       "      <td>Side</td>\n",
       "      <td>Xperience Club Nena</td>\n",
       "      <td>8.2</td>\n",
       "      <td>Origineel Xperience animatieprogramma</td>\n",
       "      <td>Sfeervol en ruim opgezet</td>\n",
       "      <td>7 waterglijbanen</td>\n",
       "      <td>3 Pers., Max 2 Volw.</td>\n",
       "      <td>8</td>\n",
       "      <td>Jul 14 2018 12:00AM</td>\n",
       "      <td>774</td>\n",
       "      <td>919.0</td>\n",
       "      <td>All inclusive</td>\n",
       "      <td>2-persoonskamer voordeeltarief</td>\n",
       "      <td>5</td>\n",
       "    </tr>\n",
       "    <tr>\n",
       "      <th>4</th>\n",
       "      <td>14435</td>\n",
       "      <td>24058</td>\n",
       "      <td>06 - Acco half width</td>\n",
       "      <td>9</td>\n",
       "      <td>Spanje</td>\n",
       "      <td>Andalusi√´ - Costa de Almer√≠a</td>\n",
       "      <td>Roquetas de Mar</td>\n",
       "      <td>Hotel Zoraida Resort</td>\n",
       "      <td>8.1</td>\n",
       "      <td>Shows met professionele artiesten</td>\n",
       "      <td>Mooie comfortabele kamers</td>\n",
       "      <td>Zwemparadijs met glijbanen</td>\n",
       "      <td>4 Pers., 3 Volw., 2 K</td>\n",
       "      <td>8</td>\n",
       "      <td>Jun 12 2018 12:00AM</td>\n",
       "      <td>519</td>\n",
       "      <td>589.0</td>\n",
       "      <td>All inclusive</td>\n",
       "      <td>2-persoonskamer bergzicht type A</td>\n",
       "      <td>4</td>\n",
       "    </tr>\n",
       "  </tbody>\n",
       "</table>\n",
       "</div>"
      ],
      "text/plain": [
       "   MAILID  OFFERID   OFFER_VISUALISATION  OFFER_POSITION COUNTRY_NAME  \\\n",
       "0   14128    23221  06 - Acco half width               7    Bulgarije   \n",
       "1   14128    23222  06 - Acco half width               6       Spanje   \n",
       "2   14128    23223  06 - Acco half width               5  Griekenland   \n",
       "3   14128    23224  06 - Acco half width               4      Turkije   \n",
       "4   14435    24058  06 - Acco half width               9       Spanje   \n",
       "\n",
       "                      REGION_NAME        CITY_NAME    ACCOMMODATION_NAME  \\\n",
       "0            Zwarte Zeekust Varna     Golden Sands       Hotel Excelsior   \n",
       "1  Andalusi√´ - Costa de Almer√≠a  Roquetas de Mar  Hotel Zoraida Resort   \n",
       "2                       Karpathos   Karpathos-Stad      App. Three Stars   \n",
       "3                 Turkse Rivi√®ra             Side   Xperience Club Nena   \n",
       "4  Andalusi√´ - Costa de Almer√≠a  Roquetas de Mar  Hotel Zoraida Resort   \n",
       "\n",
       "  REVIEW_RATING                                   USP1  \\\n",
       "0             0                           Familiehotel   \n",
       "1           8.1      Shows met professionele artiesten   \n",
       "2             0                   Volledig gerenoveerd   \n",
       "3           8.2  Origineel Xperience animatieprogramma   \n",
       "4           8.1      Shows met professionele artiesten   \n",
       "\n",
       "                             USP2                             USP3  \\\n",
       "0  Shuttle busje naar het centrum  All inclusive, wel zo makkelijk   \n",
       "1       Mooie comfortabele kamers       Zwemparadijs met glijbanen   \n",
       "2     Gemoedelijk en kleinschalig            Strand op loopafstand   \n",
       "3        Sfeervol en ruim opgezet                 7 waterglijbanen   \n",
       "4       Mooie comfortabele kamers       Zwemparadijs met glijbanen   \n",
       "\n",
       "          ROOM_OCCUPANCY DURATION       DEPARTURE_DATE PRICE  PRICE_ORIGINAL  \\\n",
       "0                3 Pers.        8  Jul 18 2018 12:00AM   664           749.0   \n",
       "1  4 Pers., 3 Volw., 2 K        8  Jul 14 2018 12:00AM   919          1039.0   \n",
       "2                2 Pers.        8  Jul 17 2018 12:00AM   749           749.0   \n",
       "3   3 Pers., Max 2 Volw.        8  Jul 14 2018 12:00AM   774           919.0   \n",
       "4  4 Pers., 3 Volw., 2 K        8  Jun 12 2018 12:00AM   519           589.0   \n",
       "\n",
       "       MEAL_PLAN                          ROOMTYPE STAR_RATING  \n",
       "0  All inclusive            2-persoonskamer type A           4  \n",
       "1  All inclusive  2-persoonskamer bergzicht type A           4  \n",
       "2         Logies                2-kamerappartement           3  \n",
       "3  All inclusive    2-persoonskamer voordeeltarief           5  \n",
       "4  All inclusive  2-persoonskamer bergzicht type A           4  "
      ]
     },
     "execution_count": 225,
     "metadata": {},
     "output_type": "execute_result"
    }
   ],
   "source": [
    "offers.head()"
   ]
  },
  {
   "cell_type": "code",
   "execution_count": null,
   "metadata": {
    "collapsed": true
   },
   "outputs": [],
   "source": []
  }
 ],
 "metadata": {
  "kernelspec": {
   "display_name": "Python 2",
   "language": "python",
   "name": "python2"
  },
  "language_info": {
   "codemirror_mode": {
    "name": "ipython",
    "version": 2
   },
   "file_extension": ".py",
   "mimetype": "text/x-python",
   "name": "python",
   "nbconvert_exporter": "python",
   "pygments_lexer": "ipython2",
   "version": "2.7.13"
  }
 },
 "nbformat": 4,
 "nbformat_minor": 2
}
