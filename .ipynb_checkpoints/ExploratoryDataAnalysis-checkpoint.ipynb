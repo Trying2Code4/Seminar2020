{
 "cells": [
  {
   "cell_type": "code",
   "execution_count": 1,
   "metadata": {},
   "outputs": [
    {
     "name": "stderr",
     "output_type": "stream",
     "text": [
      "/Users/matevaradi/opt/anaconda3/lib/python3.7/site-packages/statsmodels/tools/_testing.py:19: FutureWarning: pandas.util.testing is deprecated. Use the functions in the public API at pandas.testing instead.\n",
      "  import pandas.util.testing as tm\n"
     ]
    }
   ],
   "source": [
    "import numpy as np\n",
    "import matplotlib.pyplot as plt\n",
    "import seaborn as sns\n",
    "%matplotlib inline\n",
    "import pandas as pd\n",
    "pd.options.display.max_columns = 999\n",
    "import matplotlib"
   ]
  },
  {
   "cell_type": "code",
   "execution_count": 3,
   "metadata": {},
   "outputs": [],
   "source": [
    "plt.rcParams[\"figure.figsize\"] = [6.3, 3]\n",
    "plt.rcParams.update(plt.rcParamsDefault)\n",
    "plt.style.use('seaborn-paper')\n",
    "plt.rc('font', family='serif')\n",
    "plt.rc('xtick', labelsize='x-small')\n",
    "plt.rc('ytick', labelsize='x-small')"
   ]
  },
  {
   "cell_type": "markdown",
   "metadata": {},
   "source": [
    "# Click behavior"
   ]
  },
  {
   "cell_type": "code",
   "execution_count": null,
   "metadata": {},
   "outputs": [],
   "source": [
    "clicks=pd.read_csv(\"Observations_Report.csv\",sep=\";\")"
   ]
  },
  {
   "cell_type": "markdown",
   "metadata": {},
   "source": [
    "## What can we say about the (average) user?"
   ]
  },
  {
   "cell_type": "code",
   "execution_count": 7,
   "metadata": {},
   "outputs": [],
   "source": [
    "#group clicks by users\n",
    "clicks_per_user=clicks[['USERID','OFFERID','CLICK']].groupby(['USERID']).sum()\n",
    "n_u=len(clicks_per_user) #number of users\n",
    "\n",
    "clickthrough_per_user=clicks[['USERID','CLICK']].groupby(['USERID']).apply(lambda x: x.sum() / x.count())"
   ]
  },
  {
   "cell_type": "code",
   "execution_count": 10,
   "metadata": {},
   "outputs": [
    {
     "name": "stdout",
     "output_type": "stream",
     "text": [
      "72.34383611361284\n",
      "9.479386501418144\n",
      "18.176777384969014\n",
      "0.0\n",
      "2.3701557942279514\n",
      "848\n"
     ]
    }
   ],
   "source": [
    "print (len(clicks_per_user[clicks_per_user[\"CLICK\"]==0])/n_u*100)\n",
    "print (len(clicks_per_user[clicks_per_user[\"CLICK\"]==1])/n_u*100) \n",
    "print (len(clicks_per_user[clicks_per_user[\"CLICK\"]>1])/n_u*100) \n",
    "\n",
    "print (np.median(clicks_per_user[\"CLICK\"]) )\n",
    "print (np.mean(clicks_per_user[\"CLICK\"]))\n",
    "print (max(clicks_per_user[\"CLICK\"]))\n",
    "\n"
   ]
  },
  {
   "cell_type": "code",
   "execution_count": 80,
   "metadata": {},
   "outputs": [
    {
     "data": {
      "image/png": "[encoded data removed]",
      "text/plain": [
       "<Figure size 630x300 with 1 Axes>"
      ]
     },
     "metadata": {},
     "output_type": "display_data"
    }
   ],
   "source": [
    "#len(clicks_per_user[clicks_per_user[\"CLICK\"]>5])/n_u\n",
    "f=plt.hist(clicks_per_user[\"CLICK\"],bins=50,edgecolor='black',log=True)\n",
    "plt.show()"
   ]
  },
  {
   "cell_type": "markdown",
   "metadata": {},
   "source": [
    "#### The average number of clicks a user is made is 2.47. However, this is caused by some users that click on many offers (the maximum is 848) and hence the median of the clicks is actually 0. 72% of users haven't clicked on any of the offers. 9.5% clicked on one offer and 18% clicked on more than one offer. "
   ]
  },
  {
   "cell_type": "code",
   "execution_count": 174,
   "metadata": {},
   "outputs": [
    {
     "name": "stdout",
     "output_type": "stream",
     "text": [
      "0.0161508752933\n",
      "0.0\n",
      "1.0\n",
      "0.0\n"
     ]
    }
   ],
   "source": [
    "print (np.mean(clickthrough_per_user[\"CLICK\"]))\n",
    "print (np.median(clickthrough_per_user[\"CLICK\"]))\n",
    "print (max(clickthrough_per_user[\"CLICK\"]))\n",
    "print (min(clickthrough_per_user[\"CLICK\"]))"
   ]
  },
  {
   "cell_type": "markdown",
   "metadata": {},
   "source": [
    "#### The average clickthrough rate of users is 1.6%, while the median is 0%. The maximum clickthrough rate is 100%, so there are users that actually click on all the offers they receive."
   ]
  },
  {
   "cell_type": "code",
   "execution_count": 11,
   "metadata": {},
   "outputs": [],
   "source": [
    "#group offers by users\n",
    "offers_per_user=clicks[['USERID','CLICK']].groupby(['USERID']).count()"
   ]
  },
  {
   "cell_type": "code",
   "execution_count": 17,
   "metadata": {},
   "outputs": [
    {
     "data": {
      "image/png": "[encoded data removed]",
      "text/plain": [
       "<Figure size 630x300 with 1 Axes>"
      ]
     },
     "metadata": {},
     "output_type": "display_data"
    }
   ],
   "source": [
    "f =plt.hist(offers_per_user[\"CLICK\"],bins=50,edgecolor='black',log=True) \n",
    "plt.show()"
   ]
  },
  {
   "cell_type": "code",
   "execution_count": 134,
   "metadata": {},
   "outputs": [
    {
     "name": "stdout",
     "output_type": "stream",
     "text": [
      "108.118445284\n",
      "19.0\n",
      "1628\n",
      "0.189644859059\n"
     ]
    }
   ],
   "source": [
    "print (np.mean(offers_per_user[\"CLICK\"]))\n",
    "print (np.median(offers_per_user[\"CLICK\"]))\n",
    "print (max(offers_per_user[\"CLICK\"]))\n",
    "\n",
    "print (len(offers_per_user[offers_per_user[\"CLICK\"]<5])/n_u)"
   ]
  },
  {
   "cell_type": "markdown",
   "metadata": {},
   "source": [
    "#### Users received (by receive we mean that they opened a mail with that offer) 108 offers on average, the median was 19. Approximately 19% of the users received less than 5 offers.  "
   ]
  },
  {
   "cell_type": "code",
   "execution_count": null,
   "metadata": {},
   "outputs": [],
   "source": [
    "clickdata=pd.DataFrame(np.transpose(clicks_per_user[\"CLICK\"]))\n",
    "clickdata[\"CLICKTHROUGH\"]=clickthrough_per_user[\"CLICK\"]\n",
    "clickdata[\"SEEN\"]=offers_per_user[\"CLICK\"]"
   ]
  },
  {
   "cell_type": "code",
   "execution_count": 71,
   "metadata": {},
   "outputs": [
    {
     "data": {
      "text/plain": [
       "37942"
      ]
     },
     "execution_count": 71,
     "metadata": {},
     "output_type": "execute_result"
    }
   ],
   "source": [
    "len(clickdata[(clickdata[\"CLICK\"]>1) & (clickdata[\"SEEN\"]>100)])"
   ]
  },
  {
   "cell_type": "code",
   "execution_count": 12,
   "metadata": {},
   "outputs": [],
   "source": [
    "#group mails by user\n",
    "mails_per_user=clicks[['USERID','MAILID']].groupby('USERID')['MAILID'].nunique()"
   ]
  },
  {
   "cell_type": "code",
   "execution_count": 150,
   "metadata": {},
   "outputs": [
    {
     "name": "stdout",
     "output_type": "stream",
     "text": [
      "40.4332497681\n",
      "6.0\n",
      "622\n"
     ]
    }
   ],
   "source": [
    "print (np.mean(mails_per_user))\n",
    "print (np.median(mails_per_user))\n",
    "print (max(mails_per_user))"
   ]
  },
  {
   "cell_type": "code",
   "execution_count": 24,
   "metadata": {},
   "outputs": [
    {
     "data": {
      "image/png": "[encoded data removed]",
      "text/plain": [
       "<Figure size 630x300 with 1 Axes>"
      ]
     },
     "metadata": {},
     "output_type": "display_data"
    }
   ],
   "source": [
    "f =plt.hist(mails_per_user,bins=50,edgecolor='black',log=True,color=\"#db0933\") \n",
    "plt.show()"
   ]
  },
  {
   "cell_type": "markdown",
   "metadata": {},
   "source": [
    "#### The mean number of opened mails per user is 40, the median is 6. The maximum is 622. "
   ]
  },
  {
   "cell_type": "markdown",
   "metadata": {},
   "source": [
    "## What do we know about the mails?"
   ]
  },
  {
   "cell_type": "code",
   "execution_count": 19,
   "metadata": {},
   "outputs": [],
   "source": [
    "#group clicks by mails\n",
    "clicks_per_mail=clicks[['MAILID','CLICK']].groupby(['MAILID']).sum()\n",
    "n_m=len(clicks_per_mail) #number of mails"
   ]
  },
  {
   "cell_type": "code",
   "execution_count": 27,
   "metadata": {},
   "outputs": [
    {
     "data": {
      "image/png": "[encoded data removed]",
      "text/plain": [
       "<Figure size 630x300 with 1 Axes>"
      ]
     },
     "metadata": {},
     "output_type": "display_data"
    }
   ],
   "source": [
    "f =plt.hist(clicks_per_mail[\"CLICK\"],bins=50,edgecolor='black') \n",
    "plt.show()"
   ]
  },
  {
   "cell_type": "code",
   "execution_count": 157,
   "metadata": {},
   "outputs": [
    {
     "name": "stdout",
     "output_type": "stream",
     "text": [
      "2.6739984024\n",
      "2.0\n",
      "10\n"
     ]
    }
   ],
   "source": [
    "#group offers by mails\n",
    "offers_per_mail=clicks[['MAILID','USERID','CLICK']].groupby(['MAILID','USERID']).count()\n",
    "print (np.mean(offers_per_mail[\"CLICK\"]))\n",
    "print (np.median(offers_per_mail[\"CLICK\"]))\n",
    "print (max(offers_per_mail[\"CLICK\"]))"
   ]
  },
  {
   "cell_type": "markdown",
   "metadata": {},
   "source": [
    "#### The average mail contains 2.67 offers. The most offers a single mail has is 10."
   ]
  },
  {
   "cell_type": "markdown",
   "metadata": {},
   "source": [
    "## What about the offers?"
   ]
  },
  {
   "cell_type": "code",
   "execution_count": 25,
   "metadata": {},
   "outputs": [],
   "source": [
    "#group clicks by offers:\n",
    "clicks_per_offer=clicks[['OFFERID','CLICK']].groupby(['OFFERID']).sum()\n",
    "#clickthrough per offer:\n",
    "clickthrough_per_offer=clicks[['OFFERID','CLICK']].groupby(['OFFERID']).apply(lambda x: x.sum() / x.count())"
   ]
  },
  {
   "cell_type": "code",
   "execution_count": 26,
   "metadata": {},
   "outputs": [
    {
     "data": {
      "image/png": "[encoded data removed]",
      "text/plain": [
       "<Figure size 630x300 with 1 Axes>"
      ]
     },
     "metadata": {},
     "output_type": "display_data"
    }
   ],
   "source": [
    "f =plt.hist(clicks_per_offer[\"CLICK\"],bins=50,edgecolor='black') \n",
    "plt.show()"
   ]
  },
  {
   "cell_type": "code",
   "execution_count": 175,
   "metadata": {},
   "outputs": [
    {
     "name": "stdout",
     "output_type": "stream",
     "text": [
      "0.0219218449544\n",
      "0.0291027056551\n",
      "0.018808839382\n",
      "1.0\n",
      "0.0\n",
      "0.0759606373897\n"
     ]
    }
   ],
   "source": [
    "print (len(clicks[clicks[\"CLICK\"]==1])/len(clicks))\n",
    "print (np.mean(clickthrough_per_offer[\"CLICK\"]))\n",
    "print (np.median(clickthrough_per_offer[\"CLICK\"]))\n",
    "print (max(clickthrough_per_offer[\"CLICK\"]))\n",
    "print (max(clickthrough_per_offer[\"CLICK\"]))\n",
    "print (min(clickthrough_per_offer[\"CLICK\"]))\n",
    "print (np.std(clickthrough_per_offer[\"CLICK\"]))\n",
    "\n",
    "#clicks[clicks[\"OFFERID\"].isin(clickthrough_per_offer[clickthrough_per_offer[\"CLICK\"]==1][\"OFFERID\"])]"
   ]
  },
  {
   "cell_type": "markdown",
   "metadata": {},
   "source": [
    "#### Average click-through rate in the whole dataset is 2.19%. The average clickthrough per offer is 2.9%. The maximum clickthrough rate is 100%, but this is because some offers are only sent out once.  "
   ]
  },
  {
   "cell_type": "markdown",
   "metadata": {},
   "source": [
    "### other analyses"
   ]
  },
  {
   "cell_type": "code",
   "execution_count": 207,
   "metadata": {},
   "outputs": [],
   "source": [
    "duplicates=clicks[clicks[[\"USERID\",\"OFFERID\"]].duplicated()]"
   ]
  },
  {
   "cell_type": "code",
   "execution_count": 210,
   "metadata": {},
   "outputs": [],
   "source": [
    "#clicks is the original click dataframe\n",
    "duplicates=clicks[clicks[[\"USERID\",\"OFFERID\"]].duplicated()]\n",
    "#Removing the duplicates (getting rid of the second occurence)\n",
    "clicks_with_dupes=clicks\n",
    "clicks=pd.concat([clicks_with_dupes,duplicates]).drop_duplicates(keep=False)\n"
   ]
  },
  {
   "cell_type": "code",
   "execution_count": 218,
   "metadata": {},
   "outputs": [],
   "source": [
    "userids=sorted(clicks[\"USERID\"].unique())\n",
    "offerids=sorted(clicks[\"OFFERID\"].unique())"
   ]
  },
  {
   "cell_type": "markdown",
   "metadata": {},
   "source": [
    "# Offers"
   ]
  },
  {
   "cell_type": "code",
   "execution_count": 138,
   "metadata": {},
   "outputs": [],
   "source": [
    "offers=pd.read_excel(\"OfferDetails_neat.xlsx\")\n",
    "offers_clean=pd.read_csv(\"offers_clean.csv\")"
   ]
  },
  {
   "cell_type": "code",
   "execution_count": 43,
   "metadata": {},
   "outputs": [
    {
     "data": {
      "text/html": [
       "<div>\n",
       "<style scoped>\n",
       "    .dataframe tbody tr th:only-of-type {\n",
       "        vertical-align: middle;\n",
       "    }\n",
       "\n",
       "    .dataframe tbody tr th {\n",
       "        vertical-align: top;\n",
       "    }\n",
       "\n",
       "    .dataframe thead th {\n",
       "        text-align: right;\n",
       "    }\n",
       "</style>\n",
       "<table border=\"1\" class=\"dataframe\">\n",
       "  <thead>\n",
       "    <tr style=\"text-align: right;\">\n",
       "      <th></th>\n",
       "      <th>MAILID</th>\n",
       "      <th>OFFERID</th>\n",
       "      <th>OFFER_VISUALISATION</th>\n",
       "      <th>OFFER_POSITION</th>\n",
       "      <th>COUNTRY_NAME</th>\n",
       "      <th>REGION_NAME</th>\n",
       "      <th>CITY_NAME</th>\n",
       "      <th>ACCOMMODATION_NAME</th>\n",
       "      <th>REVIEW_RATING</th>\n",
       "      <th>USP1</th>\n",
       "      <th>USP2</th>\n",
       "      <th>USP3</th>\n",
       "      <th>ROOM_OCCUPANCY</th>\n",
       "      <th>DURATION</th>\n",
       "      <th>DEPARTURE_DATE</th>\n",
       "      <th>PRICE</th>\n",
       "      <th>PRICE_ORIGINAL</th>\n",
       "      <th>MEAL_PLAN</th>\n",
       "      <th>ROOMTYPE</th>\n",
       "      <th>STAR_RATING</th>\n",
       "    </tr>\n",
       "  </thead>\n",
       "  <tbody>\n",
       "    <tr>\n",
       "      <th>0</th>\n",
       "      <td>14128</td>\n",
       "      <td>23221</td>\n",
       "      <td>06 - Acco half width</td>\n",
       "      <td>7</td>\n",
       "      <td>Bulgaria</td>\n",
       "      <td>Zwarte Zeekust Varna</td>\n",
       "      <td>Golden Sands</td>\n",
       "      <td>Hotel Excelsior</td>\n",
       "      <td>0</td>\n",
       "      <td>Familiehotel</td>\n",
       "      <td>Shuttle busje naar het centrum</td>\n",
       "      <td>All inclusive, wel zo makkelijk</td>\n",
       "      <td>3 Pers.</td>\n",
       "      <td>8</td>\n",
       "      <td>Jul 18 2018 12:00AM</td>\n",
       "      <td>664</td>\n",
       "      <td>749.0</td>\n",
       "      <td>All inclusive</td>\n",
       "      <td>2-persoonskamer type A</td>\n",
       "      <td>4</td>\n",
       "    </tr>\n",
       "    <tr>\n",
       "      <th>1</th>\n",
       "      <td>14128</td>\n",
       "      <td>23222</td>\n",
       "      <td>06 - Acco half width</td>\n",
       "      <td>6</td>\n",
       "      <td>Spain</td>\n",
       "      <td>Andalusi√´ - Costa de Almer√≠a</td>\n",
       "      <td>Roquetas de Mar</td>\n",
       "      <td>Hotel Zoraida Resort</td>\n",
       "      <td>8.1</td>\n",
       "      <td>Shows met professionele artiesten</td>\n",
       "      <td>Mooie comfortabele kamers</td>\n",
       "      <td>Zwemparadijs met glijbanen</td>\n",
       "      <td>4 Pers., 3 Volw., 2 K</td>\n",
       "      <td>8</td>\n",
       "      <td>Jul 14 2018 12:00AM</td>\n",
       "      <td>919</td>\n",
       "      <td>1039.0</td>\n",
       "      <td>All inclusive</td>\n",
       "      <td>2-persoonskamer bergzicht type A</td>\n",
       "      <td>4</td>\n",
       "    </tr>\n",
       "    <tr>\n",
       "      <th>2</th>\n",
       "      <td>14128</td>\n",
       "      <td>23223</td>\n",
       "      <td>06 - Acco half width</td>\n",
       "      <td>5</td>\n",
       "      <td>Greece</td>\n",
       "      <td>Karpathos</td>\n",
       "      <td>Karpathos-Stad</td>\n",
       "      <td>App. Three Stars</td>\n",
       "      <td>0</td>\n",
       "      <td>Volledig gerenoveerd</td>\n",
       "      <td>Gemoedelijk en kleinschalig</td>\n",
       "      <td>Strand op loopafstand</td>\n",
       "      <td>2 Pers.</td>\n",
       "      <td>8</td>\n",
       "      <td>Jul 17 2018 12:00AM</td>\n",
       "      <td>749</td>\n",
       "      <td>749.0</td>\n",
       "      <td>Logies</td>\n",
       "      <td>2-kamerappartement</td>\n",
       "      <td>3</td>\n",
       "    </tr>\n",
       "    <tr>\n",
       "      <th>3</th>\n",
       "      <td>14128</td>\n",
       "      <td>23224</td>\n",
       "      <td>06 - Acco half width</td>\n",
       "      <td>4</td>\n",
       "      <td>Turkey</td>\n",
       "      <td>Turkse Rivi√®ra</td>\n",
       "      <td>Side</td>\n",
       "      <td>Xperience Club Nena</td>\n",
       "      <td>8.2</td>\n",
       "      <td>Origineel Xperience animatieprogramma</td>\n",
       "      <td>Sfeervol en ruim opgezet</td>\n",
       "      <td>7 waterglijbanen</td>\n",
       "      <td>3 Pers., Max 2 Volw.</td>\n",
       "      <td>8</td>\n",
       "      <td>Jul 14 2018 12:00AM</td>\n",
       "      <td>774</td>\n",
       "      <td>919.0</td>\n",
       "      <td>All inclusive</td>\n",
       "      <td>2-persoonskamer voordeeltarief</td>\n",
       "      <td>5</td>\n",
       "    </tr>\n",
       "    <tr>\n",
       "      <th>4</th>\n",
       "      <td>14435</td>\n",
       "      <td>24058</td>\n",
       "      <td>06 - Acco half width</td>\n",
       "      <td>9</td>\n",
       "      <td>Spain</td>\n",
       "      <td>Andalusi√´ - Costa de Almer√≠a</td>\n",
       "      <td>Roquetas de Mar</td>\n",
       "      <td>Hotel Zoraida Resort</td>\n",
       "      <td>8.1</td>\n",
       "      <td>Shows met professionele artiesten</td>\n",
       "      <td>Mooie comfortabele kamers</td>\n",
       "      <td>Zwemparadijs met glijbanen</td>\n",
       "      <td>4 Pers., 3 Volw., 2 K</td>\n",
       "      <td>8</td>\n",
       "      <td>Jun 12 2018 12:00AM</td>\n",
       "      <td>519</td>\n",
       "      <td>589.0</td>\n",
       "      <td>All inclusive</td>\n",
       "      <td>2-persoonskamer bergzicht type A</td>\n",
       "      <td>4</td>\n",
       "    </tr>\n",
       "  </tbody>\n",
       "</table>\n",
       "</div>"
      ],
      "text/plain": [
       "   MAILID  OFFERID   OFFER_VISUALISATION  OFFER_POSITION COUNTRY_NAME  \\\n",
       "0   14128    23221  06 - Acco half width               7     Bulgaria   \n",
       "1   14128    23222  06 - Acco half width               6        Spain   \n",
       "2   14128    23223  06 - Acco half width               5       Greece   \n",
       "3   14128    23224  06 - Acco half width               4       Turkey   \n",
       "4   14435    24058  06 - Acco half width               9        Spain   \n",
       "\n",
       "                      REGION_NAME        CITY_NAME    ACCOMMODATION_NAME  \\\n",
       "0            Zwarte Zeekust Varna     Golden Sands       Hotel Excelsior   \n",
       "1  Andalusi√´ - Costa de Almer√≠a  Roquetas de Mar  Hotel Zoraida Resort   \n",
       "2                       Karpathos   Karpathos-Stad      App. Three Stars   \n",
       "3                 Turkse Rivi√®ra             Side   Xperience Club Nena   \n",
       "4  Andalusi√´ - Costa de Almer√≠a  Roquetas de Mar  Hotel Zoraida Resort   \n",
       "\n",
       "  REVIEW_RATING                                   USP1  \\\n",
       "0             0                           Familiehotel   \n",
       "1           8.1      Shows met professionele artiesten   \n",
       "2             0                   Volledig gerenoveerd   \n",
       "3           8.2  Origineel Xperience animatieprogramma   \n",
       "4           8.1      Shows met professionele artiesten   \n",
       "\n",
       "                             USP2                             USP3  \\\n",
       "0  Shuttle busje naar het centrum  All inclusive, wel zo makkelijk   \n",
       "1       Mooie comfortabele kamers       Zwemparadijs met glijbanen   \n",
       "2     Gemoedelijk en kleinschalig            Strand op loopafstand   \n",
       "3        Sfeervol en ruim opgezet                 7 waterglijbanen   \n",
       "4       Mooie comfortabele kamers       Zwemparadijs met glijbanen   \n",
       "\n",
       "          ROOM_OCCUPANCY DURATION       DEPARTURE_DATE PRICE  PRICE_ORIGINAL  \\\n",
       "0                3 Pers.        8  Jul 18 2018 12:00AM   664           749.0   \n",
       "1  4 Pers., 3 Volw., 2 K        8  Jul 14 2018 12:00AM   919          1039.0   \n",
       "2                2 Pers.        8  Jul 17 2018 12:00AM   749           749.0   \n",
       "3   3 Pers., Max 2 Volw.        8  Jul 14 2018 12:00AM   774           919.0   \n",
       "4  4 Pers., 3 Volw., 2 K        8  Jun 12 2018 12:00AM   519           589.0   \n",
       "\n",
       "       MEAL_PLAN                          ROOMTYPE STAR_RATING  \n",
       "0  All inclusive            2-persoonskamer type A           4  \n",
       "1  All inclusive  2-persoonskamer bergzicht type A           4  \n",
       "2         Logies                2-kamerappartement           3  \n",
       "3  All inclusive    2-persoonskamer voordeeltarief           5  \n",
       "4  All inclusive  2-persoonskamer bergzicht type A           4  "
      ]
     },
     "execution_count": 43,
     "metadata": {},
     "output_type": "execute_result"
    }
   ],
   "source": [
    "offers.head()"
   ]
  },
  {
   "cell_type": "code",
   "execution_count": 101,
   "metadata": {},
   "outputs": [
    {
     "data": {
      "text/html": [
       "<div>\n",
       "<style scoped>\n",
       "    .dataframe tbody tr th:only-of-type {\n",
       "        vertical-align: middle;\n",
       "    }\n",
       "\n",
       "    .dataframe tbody tr th {\n",
       "        vertical-align: top;\n",
       "    }\n",
       "\n",
       "    .dataframe thead th {\n",
       "        text-align: right;\n",
       "    }\n",
       "</style>\n",
       "<table border=\"1\" class=\"dataframe\">\n",
       "  <thead>\n",
       "    <tr style=\"text-align: right;\">\n",
       "      <th></th>\n",
       "      <th>MAILID</th>\n",
       "      <th>OFFERID</th>\n",
       "      <th>OFFER_VISUALISATION</th>\n",
       "      <th>OFFER_POSITION</th>\n",
       "      <th>REGION_NAME</th>\n",
       "      <th>CITY_NAME</th>\n",
       "      <th>ACCOMMODATION_NAME</th>\n",
       "      <th>REVIEW_RATING</th>\n",
       "      <th>USP1</th>\n",
       "      <th>USP2</th>\n",
       "      <th>USP3</th>\n",
       "      <th>ROOM_OCCUPANCY</th>\n",
       "      <th>DURATION</th>\n",
       "      <th>DEPARTURE_DATE</th>\n",
       "      <th>PRICE</th>\n",
       "      <th>PRICE_ORIGINAL</th>\n",
       "      <th>ROOMTYPE</th>\n",
       "      <th>STAR_RATING</th>\n",
       "      <th>COUNTRY_NAME_Bulgarije</th>\n",
       "      <th>COUNTRY_NAME_Cyprus</th>\n",
       "      <th>COUNTRY_NAME_Egypte</th>\n",
       "      <th>COUNTRY_NAME_Griekenland</th>\n",
       "      <th>COUNTRY_NAME_Israel</th>\n",
       "      <th>COUNTRY_NAME_Italie</th>\n",
       "      <th>COUNTRY_NAME_Kaapverdie</th>\n",
       "      <th>COUNTRY_NAME_Kroatie</th>\n",
       "      <th>COUNTRY_NAME_Malta</th>\n",
       "      <th>COUNTRY_NAME_Marokko</th>\n",
       "      <th>COUNTRY_NAME_Montenegro</th>\n",
       "      <th>COUNTRY_NAME_Portugal</th>\n",
       "      <th>COUNTRY_NAME_Spanje</th>\n",
       "      <th>COUNTRY_NAME_Tunesie</th>\n",
       "      <th>COUNTRY_NAME_Turkije</th>\n",
       "      <th>COUNTRY_NAME_Verenigde Arabische Emiraten</th>\n",
       "      <th>DISCOUNT</th>\n",
       "      <th>MEAL_PLAN_all inclusive</th>\n",
       "      <th>MEAL_PLAN_halfpension</th>\n",
       "      <th>MEAL_PLAN_logies</th>\n",
       "      <th>MEAL_PLAN_logies en ontbijt</th>\n",
       "      <th>MEAL_PLAN_ultra all inclusive</th>\n",
       "      <th>MEAL_PLAN_volpension</th>\n",
       "      <th>MEAL_PLAN_ord</th>\n",
       "      <th>HALFWIDTH</th>\n",
       "      <th>CHILDREN</th>\n",
       "      <th>ROOMS</th>\n",
       "      <th>DEPARTURE_FEBRUARY</th>\n",
       "      <th>DEPARTURE_MARCH</th>\n",
       "      <th>DEPARTURE_APRIL</th>\n",
       "      <th>DEPARTURE_MAY</th>\n",
       "      <th>DEPARTURE_JUNE</th>\n",
       "      <th>DEPARTURE_JULY</th>\n",
       "      <th>DEPARTURE_AUGUST</th>\n",
       "      <th>DEPARTURE_SEPTEMBER</th>\n",
       "      <th>DEPARTURE_OCTOBER</th>\n",
       "      <th>DEPARTURE_NOVEMBER</th>\n",
       "      <th>DEPARTURE_DECEMBER</th>\n",
       "      <th>MAILMONTH</th>\n",
       "      <th>MAIL_FEBRUARY</th>\n",
       "      <th>MAIL_MARCH</th>\n",
       "      <th>MAIL_APRIL</th>\n",
       "      <th>MAIL_MAY</th>\n",
       "      <th>MAIL_JUNE</th>\n",
       "      <th>MAIL_JULY</th>\n",
       "      <th>MAIL_AUGUST</th>\n",
       "      <th>MAIL_SEPTEMBER</th>\n",
       "      <th>MAIL_OCTOBER</th>\n",
       "      <th>MAIL_NOVEMBER</th>\n",
       "      <th>MAIL_DECEMBER</th>\n",
       "      <th>DEPARTURE_MONTH</th>\n",
       "    </tr>\n",
       "  </thead>\n",
       "  <tbody>\n",
       "    <tr>\n",
       "      <th>0</th>\n",
       "      <td>14128.0</td>\n",
       "      <td>23221.0</td>\n",
       "      <td>06 - Acco half width</td>\n",
       "      <td>7</td>\n",
       "      <td>Zwarte Zeekust Varna</td>\n",
       "      <td>Golden Sands</td>\n",
       "      <td>Hotel Excelsior</td>\n",
       "      <td>8.04</td>\n",
       "      <td>Familiehotel</td>\n",
       "      <td>Shuttle busje naar het centrum</td>\n",
       "      <td>All inclusive, wel zo makkelijk</td>\n",
       "      <td>3 Pers.</td>\n",
       "      <td>8.0</td>\n",
       "      <td>Jul 18 2018 12:00AM</td>\n",
       "      <td>664.0</td>\n",
       "      <td>749.0</td>\n",
       "      <td>2-persoonskamer type A</td>\n",
       "      <td>4.0</td>\n",
       "      <td>1</td>\n",
       "      <td>0</td>\n",
       "      <td>0</td>\n",
       "      <td>0</td>\n",
       "      <td>0</td>\n",
       "      <td>0</td>\n",
       "      <td>0</td>\n",
       "      <td>0</td>\n",
       "      <td>0</td>\n",
       "      <td>0</td>\n",
       "      <td>0</td>\n",
       "      <td>0</td>\n",
       "      <td>0</td>\n",
       "      <td>0</td>\n",
       "      <td>0</td>\n",
       "      <td>0</td>\n",
       "      <td>0.113485</td>\n",
       "      <td>1</td>\n",
       "      <td>0</td>\n",
       "      <td>0</td>\n",
       "      <td>0</td>\n",
       "      <td>0</td>\n",
       "      <td>0</td>\n",
       "      <td>4</td>\n",
       "      <td>1</td>\n",
       "      <td>0</td>\n",
       "      <td>3</td>\n",
       "      <td>0</td>\n",
       "      <td>0</td>\n",
       "      <td>0</td>\n",
       "      <td>0</td>\n",
       "      <td>0</td>\n",
       "      <td>1</td>\n",
       "      <td>0</td>\n",
       "      <td>0</td>\n",
       "      <td>0</td>\n",
       "      <td>0</td>\n",
       "      <td>0</td>\n",
       "      <td>1</td>\n",
       "      <td>0</td>\n",
       "      <td>0</td>\n",
       "      <td>0</td>\n",
       "      <td>0</td>\n",
       "      <td>0</td>\n",
       "      <td>0</td>\n",
       "      <td>0</td>\n",
       "      <td>0</td>\n",
       "      <td>0</td>\n",
       "      <td>0</td>\n",
       "      <td>0</td>\n",
       "      <td>7</td>\n",
       "    </tr>\n",
       "    <tr>\n",
       "      <th>1</th>\n",
       "      <td>14128.0</td>\n",
       "      <td>23222.0</td>\n",
       "      <td>06 - Acco half width</td>\n",
       "      <td>6</td>\n",
       "      <td>Andalusi√´ - Costa de Almer√≠a</td>\n",
       "      <td>Roquetas de Mar</td>\n",
       "      <td>Hotel Zoraida Resort</td>\n",
       "      <td>8.10</td>\n",
       "      <td>Shows met professionele artiesten</td>\n",
       "      <td>Mooie comfortabele kamers</td>\n",
       "      <td>Zwemparadijs met glijbanen</td>\n",
       "      <td>4 Pers., 3 Volw., 2 K</td>\n",
       "      <td>8.0</td>\n",
       "      <td>Jul 14 2018 12:00AM</td>\n",
       "      <td>919.0</td>\n",
       "      <td>1039.0</td>\n",
       "      <td>2-persoonskamer bergzicht type A</td>\n",
       "      <td>4.0</td>\n",
       "      <td>0</td>\n",
       "      <td>0</td>\n",
       "      <td>0</td>\n",
       "      <td>0</td>\n",
       "      <td>0</td>\n",
       "      <td>0</td>\n",
       "      <td>0</td>\n",
       "      <td>0</td>\n",
       "      <td>0</td>\n",
       "      <td>0</td>\n",
       "      <td>0</td>\n",
       "      <td>0</td>\n",
       "      <td>1</td>\n",
       "      <td>0</td>\n",
       "      <td>0</td>\n",
       "      <td>0</td>\n",
       "      <td>0.115496</td>\n",
       "      <td>1</td>\n",
       "      <td>0</td>\n",
       "      <td>0</td>\n",
       "      <td>0</td>\n",
       "      <td>0</td>\n",
       "      <td>0</td>\n",
       "      <td>4</td>\n",
       "      <td>1</td>\n",
       "      <td>0</td>\n",
       "      <td>4</td>\n",
       "      <td>0</td>\n",
       "      <td>0</td>\n",
       "      <td>0</td>\n",
       "      <td>0</td>\n",
       "      <td>0</td>\n",
       "      <td>1</td>\n",
       "      <td>0</td>\n",
       "      <td>0</td>\n",
       "      <td>0</td>\n",
       "      <td>0</td>\n",
       "      <td>0</td>\n",
       "      <td>1</td>\n",
       "      <td>0</td>\n",
       "      <td>0</td>\n",
       "      <td>0</td>\n",
       "      <td>0</td>\n",
       "      <td>0</td>\n",
       "      <td>0</td>\n",
       "      <td>0</td>\n",
       "      <td>0</td>\n",
       "      <td>0</td>\n",
       "      <td>0</td>\n",
       "      <td>0</td>\n",
       "      <td>7</td>\n",
       "    </tr>\n",
       "    <tr>\n",
       "      <th>2</th>\n",
       "      <td>14128.0</td>\n",
       "      <td>23223.0</td>\n",
       "      <td>06 - Acco half width</td>\n",
       "      <td>5</td>\n",
       "      <td>Karpathos</td>\n",
       "      <td>Karpathos-Stad</td>\n",
       "      <td>App. Three Stars</td>\n",
       "      <td>8.08</td>\n",
       "      <td>Volledig gerenoveerd</td>\n",
       "      <td>Gemoedelijk en kleinschalig</td>\n",
       "      <td>Strand op loopafstand</td>\n",
       "      <td>2 Pers.</td>\n",
       "      <td>8.0</td>\n",
       "      <td>Jul 17 2018 12:00AM</td>\n",
       "      <td>749.0</td>\n",
       "      <td>749.0</td>\n",
       "      <td>2-kamerappartement</td>\n",
       "      <td>3.0</td>\n",
       "      <td>0</td>\n",
       "      <td>0</td>\n",
       "      <td>0</td>\n",
       "      <td>1</td>\n",
       "      <td>0</td>\n",
       "      <td>0</td>\n",
       "      <td>0</td>\n",
       "      <td>0</td>\n",
       "      <td>0</td>\n",
       "      <td>0</td>\n",
       "      <td>0</td>\n",
       "      <td>0</td>\n",
       "      <td>0</td>\n",
       "      <td>0</td>\n",
       "      <td>0</td>\n",
       "      <td>0</td>\n",
       "      <td>0.000000</td>\n",
       "      <td>0</td>\n",
       "      <td>0</td>\n",
       "      <td>1</td>\n",
       "      <td>0</td>\n",
       "      <td>0</td>\n",
       "      <td>0</td>\n",
       "      <td>0</td>\n",
       "      <td>1</td>\n",
       "      <td>0</td>\n",
       "      <td>2</td>\n",
       "      <td>0</td>\n",
       "      <td>0</td>\n",
       "      <td>0</td>\n",
       "      <td>0</td>\n",
       "      <td>0</td>\n",
       "      <td>1</td>\n",
       "      <td>0</td>\n",
       "      <td>0</td>\n",
       "      <td>0</td>\n",
       "      <td>0</td>\n",
       "      <td>0</td>\n",
       "      <td>1</td>\n",
       "      <td>0</td>\n",
       "      <td>0</td>\n",
       "      <td>0</td>\n",
       "      <td>0</td>\n",
       "      <td>0</td>\n",
       "      <td>0</td>\n",
       "      <td>0</td>\n",
       "      <td>0</td>\n",
       "      <td>0</td>\n",
       "      <td>0</td>\n",
       "      <td>0</td>\n",
       "      <td>7</td>\n",
       "    </tr>\n",
       "    <tr>\n",
       "      <th>3</th>\n",
       "      <td>14128.0</td>\n",
       "      <td>23224.0</td>\n",
       "      <td>06 - Acco half width</td>\n",
       "      <td>4</td>\n",
       "      <td>Turkse Rivi√®ra</td>\n",
       "      <td>Side</td>\n",
       "      <td>Xperience Club Nena</td>\n",
       "      <td>8.20</td>\n",
       "      <td>Origineel Xperience animatieprogramma</td>\n",
       "      <td>Sfeervol en ruim opgezet</td>\n",
       "      <td>7 waterglijbanen</td>\n",
       "      <td>3 Pers., Max 2 Volw.</td>\n",
       "      <td>8.0</td>\n",
       "      <td>Jul 14 2018 12:00AM</td>\n",
       "      <td>774.0</td>\n",
       "      <td>919.0</td>\n",
       "      <td>2-persoonskamer voordeeltarief</td>\n",
       "      <td>5.0</td>\n",
       "      <td>0</td>\n",
       "      <td>0</td>\n",
       "      <td>0</td>\n",
       "      <td>0</td>\n",
       "      <td>0</td>\n",
       "      <td>0</td>\n",
       "      <td>0</td>\n",
       "      <td>0</td>\n",
       "      <td>0</td>\n",
       "      <td>0</td>\n",
       "      <td>0</td>\n",
       "      <td>0</td>\n",
       "      <td>0</td>\n",
       "      <td>0</td>\n",
       "      <td>1</td>\n",
       "      <td>0</td>\n",
       "      <td>0.157780</td>\n",
       "      <td>1</td>\n",
       "      <td>0</td>\n",
       "      <td>0</td>\n",
       "      <td>0</td>\n",
       "      <td>0</td>\n",
       "      <td>0</td>\n",
       "      <td>4</td>\n",
       "      <td>1</td>\n",
       "      <td>0</td>\n",
       "      <td>3</td>\n",
       "      <td>0</td>\n",
       "      <td>0</td>\n",
       "      <td>0</td>\n",
       "      <td>0</td>\n",
       "      <td>0</td>\n",
       "      <td>1</td>\n",
       "      <td>0</td>\n",
       "      <td>0</td>\n",
       "      <td>0</td>\n",
       "      <td>0</td>\n",
       "      <td>0</td>\n",
       "      <td>1</td>\n",
       "      <td>0</td>\n",
       "      <td>0</td>\n",
       "      <td>0</td>\n",
       "      <td>0</td>\n",
       "      <td>0</td>\n",
       "      <td>0</td>\n",
       "      <td>0</td>\n",
       "      <td>0</td>\n",
       "      <td>0</td>\n",
       "      <td>0</td>\n",
       "      <td>0</td>\n",
       "      <td>7</td>\n",
       "    </tr>\n",
       "    <tr>\n",
       "      <th>4</th>\n",
       "      <td>14435.0</td>\n",
       "      <td>24058.0</td>\n",
       "      <td>06 - Acco half width</td>\n",
       "      <td>9</td>\n",
       "      <td>Andalusi√´ - Costa de Almer√≠a</td>\n",
       "      <td>Roquetas de Mar</td>\n",
       "      <td>Hotel Zoraida Resort</td>\n",
       "      <td>8.10</td>\n",
       "      <td>Shows met professionele artiesten</td>\n",
       "      <td>Mooie comfortabele kamers</td>\n",
       "      <td>Zwemparadijs met glijbanen</td>\n",
       "      <td>4 Pers., 3 Volw., 2 K</td>\n",
       "      <td>8.0</td>\n",
       "      <td>Jun 12 2018 12:00AM</td>\n",
       "      <td>519.0</td>\n",
       "      <td>589.0</td>\n",
       "      <td>2-persoonskamer bergzicht type A</td>\n",
       "      <td>4.0</td>\n",
       "      <td>0</td>\n",
       "      <td>0</td>\n",
       "      <td>0</td>\n",
       "      <td>0</td>\n",
       "      <td>0</td>\n",
       "      <td>0</td>\n",
       "      <td>0</td>\n",
       "      <td>0</td>\n",
       "      <td>0</td>\n",
       "      <td>0</td>\n",
       "      <td>0</td>\n",
       "      <td>0</td>\n",
       "      <td>1</td>\n",
       "      <td>0</td>\n",
       "      <td>0</td>\n",
       "      <td>0</td>\n",
       "      <td>0.118846</td>\n",
       "      <td>1</td>\n",
       "      <td>0</td>\n",
       "      <td>0</td>\n",
       "      <td>0</td>\n",
       "      <td>0</td>\n",
       "      <td>0</td>\n",
       "      <td>4</td>\n",
       "      <td>1</td>\n",
       "      <td>0</td>\n",
       "      <td>4</td>\n",
       "      <td>0</td>\n",
       "      <td>0</td>\n",
       "      <td>0</td>\n",
       "      <td>0</td>\n",
       "      <td>1</td>\n",
       "      <td>0</td>\n",
       "      <td>0</td>\n",
       "      <td>0</td>\n",
       "      <td>0</td>\n",
       "      <td>0</td>\n",
       "      <td>0</td>\n",
       "      <td>1</td>\n",
       "      <td>0</td>\n",
       "      <td>0</td>\n",
       "      <td>0</td>\n",
       "      <td>0</td>\n",
       "      <td>0</td>\n",
       "      <td>0</td>\n",
       "      <td>0</td>\n",
       "      <td>0</td>\n",
       "      <td>0</td>\n",
       "      <td>0</td>\n",
       "      <td>0</td>\n",
       "      <td>6</td>\n",
       "    </tr>\n",
       "  </tbody>\n",
       "</table>\n",
       "</div>"
      ],
      "text/plain": [
       "    MAILID  OFFERID   OFFER_VISUALISATION  OFFER_POSITION  \\\n",
       "0  14128.0  23221.0  06 - Acco half width               7   \n",
       "1  14128.0  23222.0  06 - Acco half width               6   \n",
       "2  14128.0  23223.0  06 - Acco half width               5   \n",
       "3  14128.0  23224.0  06 - Acco half width               4   \n",
       "4  14435.0  24058.0  06 - Acco half width               9   \n",
       "\n",
       "                      REGION_NAME        CITY_NAME    ACCOMMODATION_NAME  \\\n",
       "0            Zwarte Zeekust Varna     Golden Sands       Hotel Excelsior   \n",
       "1  Andalusi√´ - Costa de Almer√≠a  Roquetas de Mar  Hotel Zoraida Resort   \n",
       "2                       Karpathos   Karpathos-Stad      App. Three Stars   \n",
       "3                 Turkse Rivi√®ra             Side   Xperience Club Nena   \n",
       "4  Andalusi√´ - Costa de Almer√≠a  Roquetas de Mar  Hotel Zoraida Resort   \n",
       "\n",
       "   REVIEW_RATING                                   USP1  \\\n",
       "0           8.04                           Familiehotel   \n",
       "1           8.10      Shows met professionele artiesten   \n",
       "2           8.08                   Volledig gerenoveerd   \n",
       "3           8.20  Origineel Xperience animatieprogramma   \n",
       "4           8.10      Shows met professionele artiesten   \n",
       "\n",
       "                             USP2                             USP3  \\\n",
       "0  Shuttle busje naar het centrum  All inclusive, wel zo makkelijk   \n",
       "1       Mooie comfortabele kamers       Zwemparadijs met glijbanen   \n",
       "2     Gemoedelijk en kleinschalig            Strand op loopafstand   \n",
       "3        Sfeervol en ruim opgezet                 7 waterglijbanen   \n",
       "4       Mooie comfortabele kamers       Zwemparadijs met glijbanen   \n",
       "\n",
       "          ROOM_OCCUPANCY  DURATION       DEPARTURE_DATE  PRICE  \\\n",
       "0                3 Pers.       8.0  Jul 18 2018 12:00AM  664.0   \n",
       "1  4 Pers., 3 Volw., 2 K       8.0  Jul 14 2018 12:00AM  919.0   \n",
       "2                2 Pers.       8.0  Jul 17 2018 12:00AM  749.0   \n",
       "3   3 Pers., Max 2 Volw.       8.0  Jul 14 2018 12:00AM  774.0   \n",
       "4  4 Pers., 3 Volw., 2 K       8.0  Jun 12 2018 12:00AM  519.0   \n",
       "\n",
       "   PRICE_ORIGINAL                          ROOMTYPE  STAR_RATING  \\\n",
       "0           749.0            2-persoonskamer type A          4.0   \n",
       "1          1039.0  2-persoonskamer bergzicht type A          4.0   \n",
       "2           749.0                2-kamerappartement          3.0   \n",
       "3           919.0    2-persoonskamer voordeeltarief          5.0   \n",
       "4           589.0  2-persoonskamer bergzicht type A          4.0   \n",
       "\n",
       "   COUNTRY_NAME_Bulgarije  COUNTRY_NAME_Cyprus  COUNTRY_NAME_Egypte  \\\n",
       "0                       1                    0                    0   \n",
       "1                       0                    0                    0   \n",
       "2                       0                    0                    0   \n",
       "3                       0                    0                    0   \n",
       "4                       0                    0                    0   \n",
       "\n",
       "   COUNTRY_NAME_Griekenland  COUNTRY_NAME_Israel  COUNTRY_NAME_Italie  \\\n",
       "0                         0                    0                    0   \n",
       "1                         0                    0                    0   \n",
       "2                         1                    0                    0   \n",
       "3                         0                    0                    0   \n",
       "4                         0                    0                    0   \n",
       "\n",
       "   COUNTRY_NAME_Kaapverdie  COUNTRY_NAME_Kroatie  COUNTRY_NAME_Malta  \\\n",
       "0                        0                     0                   0   \n",
       "1                        0                     0                   0   \n",
       "2                        0                     0                   0   \n",
       "3                        0                     0                   0   \n",
       "4                        0                     0                   0   \n",
       "\n",
       "   COUNTRY_NAME_Marokko  COUNTRY_NAME_Montenegro  COUNTRY_NAME_Portugal  \\\n",
       "0                     0                        0                      0   \n",
       "1                     0                        0                      0   \n",
       "2                     0                        0                      0   \n",
       "3                     0                        0                      0   \n",
       "4                     0                        0                      0   \n",
       "\n",
       "   COUNTRY_NAME_Spanje  COUNTRY_NAME_Tunesie  COUNTRY_NAME_Turkije  \\\n",
       "0                    0                     0                     0   \n",
       "1                    1                     0                     0   \n",
       "2                    0                     0                     0   \n",
       "3                    0                     0                     1   \n",
       "4                    1                     0                     0   \n",
       "\n",
       "   COUNTRY_NAME_Verenigde Arabische Emiraten  DISCOUNT  \\\n",
       "0                                          0  0.113485   \n",
       "1                                          0  0.115496   \n",
       "2                                          0  0.000000   \n",
       "3                                          0  0.157780   \n",
       "4                                          0  0.118846   \n",
       "\n",
       "   MEAL_PLAN_all inclusive  MEAL_PLAN_halfpension  MEAL_PLAN_logies  \\\n",
       "0                        1                      0                 0   \n",
       "1                        1                      0                 0   \n",
       "2                        0                      0                 1   \n",
       "3                        1                      0                 0   \n",
       "4                        1                      0                 0   \n",
       "\n",
       "   MEAL_PLAN_logies en ontbijt  MEAL_PLAN_ultra all inclusive  \\\n",
       "0                            0                              0   \n",
       "1                            0                              0   \n",
       "2                            0                              0   \n",
       "3                            0                              0   \n",
       "4                            0                              0   \n",
       "\n",
       "   MEAL_PLAN_volpension  MEAL_PLAN_ord  HALFWIDTH  CHILDREN  ROOMS  \\\n",
       "0                     0              4          1         0      3   \n",
       "1                     0              4          1         0      4   \n",
       "2                     0              0          1         0      2   \n",
       "3                     0              4          1         0      3   \n",
       "4                     0              4          1         0      4   \n",
       "\n",
       "   DEPARTURE_FEBRUARY  DEPARTURE_MARCH  DEPARTURE_APRIL  DEPARTURE_MAY  \\\n",
       "0                   0                0                0              0   \n",
       "1                   0                0                0              0   \n",
       "2                   0                0                0              0   \n",
       "3                   0                0                0              0   \n",
       "4                   0                0                0              0   \n",
       "\n",
       "   DEPARTURE_JUNE  DEPARTURE_JULY  DEPARTURE_AUGUST  DEPARTURE_SEPTEMBER  \\\n",
       "0               0               1                 0                    0   \n",
       "1               0               1                 0                    0   \n",
       "2               0               1                 0                    0   \n",
       "3               0               1                 0                    0   \n",
       "4               1               0                 0                    0   \n",
       "\n",
       "   DEPARTURE_OCTOBER  DEPARTURE_NOVEMBER  DEPARTURE_DECEMBER  MAILMONTH  \\\n",
       "0                  0                   0                   0          1   \n",
       "1                  0                   0                   0          1   \n",
       "2                  0                   0                   0          1   \n",
       "3                  0                   0                   0          1   \n",
       "4                  0                   0                   0          1   \n",
       "\n",
       "   MAIL_FEBRUARY  MAIL_MARCH  MAIL_APRIL  MAIL_MAY  MAIL_JUNE  MAIL_JULY  \\\n",
       "0              0           0           0         0          0          0   \n",
       "1              0           0           0         0          0          0   \n",
       "2              0           0           0         0          0          0   \n",
       "3              0           0           0         0          0          0   \n",
       "4              0           0           0         0          0          0   \n",
       "\n",
       "   MAIL_AUGUST  MAIL_SEPTEMBER  MAIL_OCTOBER  MAIL_NOVEMBER  MAIL_DECEMBER  \\\n",
       "0            0               0             0              0              0   \n",
       "1            0               0             0              0              0   \n",
       "2            0               0             0              0              0   \n",
       "3            0               0             0              0              0   \n",
       "4            0               0             0              0              0   \n",
       "\n",
       "   DEPARTURE_MONTH  \n",
       "0                7  \n",
       "1                7  \n",
       "2                7  \n",
       "3                7  \n",
       "4                6  "
      ]
     },
     "execution_count": 101,
     "metadata": {},
     "output_type": "execute_result"
    }
   ],
   "source": [
    "offers_clean.head()"
   ]
  },
  {
   "cell_type": "markdown",
   "metadata": {},
   "source": [
    "### Destination country"
   ]
  },
  {
   "cell_type": "code",
   "execution_count": 36,
   "metadata": {},
   "outputs": [],
   "source": [
    "# Some cleaning\n",
    "offers.loc[offers[\"COUNTRY_NAME\"].apply( lambda x: x[0:4]==\"Tune\" ),\"COUNTRY_NAME\"]='Tunesie'\n",
    "offers.loc[offers[\"COUNTRY_NAME\"].apply( lambda x: x[0:4]==\"Isra\" ),\"COUNTRY_NAME\"]='Israel'\n",
    "offers.loc[offers[\"COUNTRY_NAME\"].apply( lambda x: x[0:4]==\"Ital\" ),\"COUNTRY_NAME\"]='Italie'\n",
    "offers.loc[offers[\"COUNTRY_NAME\"].apply( lambda x: x[0:4]==\"Kroa\" ),\"COUNTRY_NAME\"]='Kroatie'\n",
    "offers.loc[offers[\"COUNTRY_NAME\"].apply( lambda x: x[0:4]==\"Kaap\" ),\"COUNTRY_NAME\"]='Kaapverdie'\n",
    "offers.loc[offers[\"COUNTRY_NAME\"].apply( lambda x: x==\"Egypte \" ),\"COUNTRY_NAME\"]=\"Egypte\"\n",
    "offers.loc[offers[\"COUNTRY_NAME\"].apply( lambda x: x==\"Spanje \" ),\"COUNTRY_NAME\"]=\"Spanje\"\n",
    "offers.loc[offers[\"COUNTRY_NAME\"].apply( lambda x: x==\"Costa del Sol\" ),\"COUNTRY_NAME\"]=\"Spanje\"\n",
    "offers.loc[offers[\"COUNTRY_NAME\"].apply( lambda x: x==\"Roda\" ),\"COUNTRY_NAME\"]=\"Griekenland\"\n",
    "\n",
    "# Displaying english names\n",
    "x=offers[\"COUNTRY_NAME\"].unique()\n",
    "y=np.array([\"Bulgaria\",\"Spain\",\"Greece\",\"Turkey\",\"Portugal\",\"Cyprus\",\"Egypt\",\"Croatia\",\"Tunisia\",\"Montenegro\",\\\n",
    " \"Cape Verde\",\"Malta\",\"Italy\",\"UAE\",\"Morocco\",\"Israel\"])\n",
    "for i,j in zip(x,y):\n",
    "    offers[\"COUNTRY_NAME\"]=offers[\"COUNTRY_NAME\"].replace(i,j)"
   ]
  },
  {
   "cell_type": "code",
   "execution_count": 119,
   "metadata": {},
   "outputs": [
    {
     "data": {
      "image/png": "[encoded data removed]",
      "text/plain": [
       "<Figure size 640x440 with 1 Axes>"
      ]
     },
     "metadata": {},
     "output_type": "display_data"
    }
   ],
   "source": [
    "#\"Number of offers per destination country\"\n",
    "ax = offers[\"COUNTRY_NAME\"].value_counts().plot(kind='barh',edgecolor='black')\n",
    "ax.set_ylabel(\"Country\")\n",
    "ax.set_xlabel(\"Frequency\")\n",
    "plt.show()"
   ]
  },
  {
   "cell_type": "markdown",
   "metadata": {},
   "source": [
    "### Mail and departure dates"
   ]
  },
  {
   "cell_type": "code",
   "execution_count": 99,
   "metadata": {},
   "outputs": [],
   "source": [
    "# Some data cleaning\n",
    "offers_clean = offers_clean.dropna(subset=['MAILMONTH'])\n",
    "\n",
    "offers_clean[\"DEPARTURE_MONTH\"]=offers_clean[\"DEPARTURE_DATE\"].apply(lambda x: 2 if (\"feb\" in str(x).lower() ) else\n",
    " 3 if (\"mar\" in str(x).lower() ) else \n",
    "4 if (\"apr\" in str(x).lower() )  else\n",
    " 5 if (\"may\" in str(x).lower()  ) else\n",
    "6 if (\"jun\" in str(x).lower()  ) else\n",
    "7 if (\"jul\" in str(x).lower() ) else\n",
    "8 if (\"aug\" in str(x).lower()  ) else\n",
    "9 if (\"sep\" in str(x).lower()  ) else\n",
    "10 if (\"oct\" in str(x).lower()  ) else\n",
    "11 if (\"nov\" in str(x).lower()  ) else\n",
    "12 if (\"dec\" in str(x).lower()  ) else 1)\n",
    "\n",
    "offers_clean[\"MAILMONTH\"]=offers_clean[\"MAILMONTH\"].apply(lambda x: int(x))"
   ]
  },
  {
   "cell_type": "code",
   "execution_count": 122,
   "metadata": {},
   "outputs": [
    {
     "data": {
      "image/png": "[encoded data removed]",
      "text/plain": [
       "<Figure size 640x440 with 1 Axes>"
      ]
     },
     "metadata": {},
     "output_type": "display_data"
    }
   ],
   "source": [
    "labels = [str(x) for x in list(range(1,13))]\n",
    "depm=offers_clean[\"DEPARTURE_MONTH\"].value_counts().sort_index().values\n",
    "mailm=offers_clean[\"MAILMONTH\"].value_counts().sort_index().values\n",
    "\n",
    "x = np.arange(len(labels))  # the label locations\n",
    "width = 0.35  # the width of the bars\n",
    "\n",
    "fig, ax = plt.subplots()\n",
    "rects1 = ax.bar(x - width/2, depm, width, label='Departure month',edgecolor='black')\n",
    "rects2 = ax.bar(x + width/2, mailm, width, label='Month of mail sent',color=\"#db0933\",edgecolor='black')\n",
    "\n",
    "# Add some text for labels, title and custom x-axis tick labels, etc.\n",
    "ax.set_ylabel('Frequency')\n",
    "ax.set_xlabel('Month')\n",
    "ax.set_xticks(x)\n",
    "ax.set_xticklabels(labels)\n",
    "ax.legend()\n",
    "\n",
    "plt.show()"
   ]
  },
  {
   "cell_type": "markdown",
   "metadata": {},
   "source": [
    "### Other information on offers\n"
   ]
  },
  {
   "cell_type": "markdown",
   "metadata": {},
   "source": [
    "#### Prices and discounts"
   ]
  },
  {
   "cell_type": "code",
   "execution_count": 141,
   "metadata": {},
   "outputs": [
    {
     "name": "stdout",
     "output_type": "stream",
     "text": [
      "Average original price : 684.2001703577513\n",
      "Standard deviation of price:  219.52088271115656\n",
      "Proportion of discounted offers:  0.9703205381875742\n",
      "Average discount:  0.2761612883621037\n"
     ]
    }
   ],
   "source": [
    "print(\"Average original price :\", offers[\"PRICE_ORIGINAL\"].mean())\n",
    "print(\"Standard deviation of price: \", offers[\"PRICE_ORIGINAL\"].std())\n",
    "print(\"Proportion of discounted offers: \",len(offers_clean[offers_clean[\"DISCOUNT\"]>0])/len(offers_clean) )\n",
    "print(\"Average discount: \",offers_clean[\"DISCOUNT\"].mean() )"
   ]
  },
  {
   "cell_type": "code",
   "execution_count": 139,
   "metadata": {},
   "outputs": [
    {
     "data": {
      "text/plain": [
       "0.9703205381875742"
      ]
     },
     "execution_count": 139,
     "metadata": {},
     "output_type": "execute_result"
    }
   ],
   "source": [
    "len(offers_clean[offers_clean[\"DISCOUNT\"]>0])/len(offers_clean)"
   ]
  },
  {
   "cell_type": "markdown",
   "metadata": {},
   "source": [
    "#### Average review rating and stars"
   ]
  },
  {
   "cell_type": "code",
   "execution_count": 145,
   "metadata": {},
   "outputs": [
    {
     "name": "stdout",
     "output_type": "stream",
     "text": [
      "Average review rating: 8.110692520775617\n",
      "Average star number: 3.8407202216066483\n"
     ]
    }
   ],
   "source": [
    "print(\"Average review rating:\", offers_clean[\"REVIEW_RATING\"].mean())\n",
    "print(\"Average star number:\", offers_clean[\"STAR_RATING\"].mean())"
   ]
  },
  {
   "cell_type": "markdown",
   "metadata": {},
   "source": [
    "#### Meal plan frequency"
   ]
  },
  {
   "cell_type": "code",
   "execution_count": 147,
   "metadata": {},
   "outputs": [
    {
     "data": {
      "text/plain": [
       "0     877\n",
       "1     242\n",
       "2     154\n",
       "3       1\n",
       "4    1102\n",
       "5     151\n",
       "Name: MEAL_PLAN_ord, dtype: int64"
      ]
     },
     "execution_count": 147,
     "metadata": {},
     "output_type": "execute_result"
    }
   ],
   "source": [
    "offers_clean[\"MEAL_PLAN_ord\"].value_counts().sort_index()\n",
    "# 0: no food included\n",
    "# 1: bed and breakfast\n",
    "# 2: half pension\n",
    "# 3: full pension\n",
    "# 4: all inclusive\n",
    "# 5: ultra all inclusive"
   ]
  },
  {
   "cell_type": "code",
   "execution_count": null,
   "metadata": {},
   "outputs": [],
   "source": []
  }
 ],
 "metadata": {
  "kernelspec": {
   "display_name": "Python 3",
   "language": "python",
   "name": "python3"
  },
  "language_info": {
   "codemirror_mode": {
    "name": "ipython",
    "version": 3
   },
   "file_extension": ".py",
   "mimetype": "text/x-python",
   "name": "python",
   "nbconvert_exporter": "python",
   "pygments_lexer": "ipython3",
   "version": "3.7.4"
  }
 },
 "nbformat": 4,
 "nbformat_minor": 2
}
